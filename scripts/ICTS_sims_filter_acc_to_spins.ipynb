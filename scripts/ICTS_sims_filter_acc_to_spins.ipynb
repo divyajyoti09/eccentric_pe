{
 "cells": [
  {
   "cell_type": "code",
   "execution_count": 13,
   "id": "2f96187e-e16e-48ec-af6c-a718787bead2",
   "metadata": {},
   "outputs": [],
   "source": [
    "import pandas as pd\n",
    "import os\n",
    "import numpy as np"
   ]
  },
  {
   "cell_type": "code",
   "execution_count": 2,
   "id": "89c7b871-df87-457f-9011-0a1d1fdd50c1",
   "metadata": {},
   "outputs": [],
   "source": [
    "base_dir = '/home/divyajyoti/ACADEMIC/Projects/IITM_GW/Eccentric_Population/sims_from_Prayush_Vaishak'"
   ]
  },
  {
   "cell_type": "code",
   "execution_count": 3,
   "id": "82c45809-a1df-410e-ba25-d11e6f319263",
   "metadata": {},
   "outputs": [],
   "source": [
    "sim_categories = ['ICTSEccParallel', 'EccContPrecDiff', 'EccPrecDiff']"
   ]
  },
  {
   "cell_type": "markdown",
   "id": "1dcf5fa4-8684-4f3c-94b6-c61848926367",
   "metadata": {},
   "source": [
    "## Read metadata"
   ]
  },
  {
   "cell_type": "code",
   "execution_count": 5,
   "id": "b8dd03f2-3954-46e5-aa30-ecdb2634cf01",
   "metadata": {},
   "outputs": [],
   "source": [
    "tables_metadata = {}\n",
    "for sim_cat in sim_categories:\n",
    "    table_metadata = pd.read_csv(os.path.join(base_dir, sim_cat, sim_cat+'_ref_time.csv'))\n",
    "    table_metadata = table_metadata.set_index('SimulationAlias').T\n",
    "    tables_metadata[sim_cat] = table_metadata"
   ]
  },
  {
   "cell_type": "markdown",
   "id": "c99cb977-bd3b-478e-a40a-856160c89901",
   "metadata": {},
   "source": [
    "## Filter Aligned spin sims"
   ]
  },
  {
   "cell_type": "code",
   "execution_count": 26,
   "id": "58a0fa93-ecf2-443b-893f-37f1a7ee4bad",
   "metadata": {},
   "outputs": [
    {
     "name": "stdout",
     "output_type": "stream",
     "text": [
      "ICTSEccParallel\n",
      "ICTSEccParallel13 (-0.0,0.0,0.6) (-0.0,0.0,0.6)\n",
      "ICTSEccParallel12 (-0.0,0.0,0.3) (-0.0,0.0,0.3)\n",
      "ICTSEccParallel15 (0.0,-0.0,0.3) (0.0,-0.0,0.3)\n",
      "ICTSEccParallel10 (-0.0,-0.0,-0.40001) (-0.0,-0.0,-0.40001)\n",
      "ICTSEccParallel09 : Found NaN. Skipping\n",
      "ICTSEccParallel17 (0.0,-0.0,-0.59999) (0.0,-0.0,-0.59999)\n",
      "ICTSEccParallel11 (-0.0,-0.0,0.49999) (-0.0,-0.0,0.49999)\n",
      "ICTSEccParallel04 (0.0,-0.0,0.40004) (0.0,-0.0,0.40004)\n",
      "ICTSEccParallel08 (0.0,0.0,0.09999) (0.0,0.0,0.09999)\n",
      "ICTSEccParallel07 (0.0,0.0,0.49996) (0.0,0.0,0.49996)\n",
      "ICTSEccParallel05 (-0.0,-0.0,-0.49993) (-0.0,-0.0,-0.49993)\n",
      "ICTSEccParallel14 (0.0,0.0,-0.60001) (0.0,0.0,-0.60001)\n",
      "ICTSEccParallel16 (0.0,-0.0,0.6) (0.0,-0.0,0.6)\n",
      "Total = 17\n",
      "Incomplete = 1\n",
      "Aligned spin =  12 \n",
      "\n",
      "EccContPrecDiff\n",
      "Total = 8\n",
      "Incomplete = 0\n",
      "Aligned spin =  0 \n",
      "\n",
      "EccPrecDiff\n",
      "EccPrecDiff003 : Found NaN. Skipping\n",
      "EccPrecDiff003a : Found NaN. Skipping\n",
      "Total = 5\n",
      "Incomplete = 2\n",
      "Aligned spin =  0 \n",
      "\n",
      "Overall total = 30\n",
      "Overall incomplete = 3\n",
      "Overall Aligned spin = 12\n"
     ]
    }
   ],
   "source": [
    "aligned_spin_sims = []\n",
    "total_sims = 0\n",
    "incomplete_sims = 0\n",
    "AS_sims = 0\n",
    "\n",
    "for sim_cat in sim_categories:\n",
    "    print(sim_cat)\n",
    "    total_cat_sims = 0\n",
    "    AS_cat_sims = 0\n",
    "    incomplete_cat_sims = 0\n",
    "    table_metadata = tables_metadata[sim_cat]\n",
    "    for sim in table_metadata.keys():\n",
    "        total_cat_sims+=1\n",
    "        if np.isnan(table_metadata[sim]['ReqRefTime']):\n",
    "            print(sim, ': Found NaN. Skipping')\n",
    "            incomplete_cat_sims+=1\n",
    "            continue\n",
    "            \n",
    "        chiA_ref = table_metadata[sim]['ChiA_ref']\n",
    "        chiA_ref_x, chiA_ref_y, chiA_ref_z = eval(chiA_ref)\n",
    "\n",
    "        chiB_ref = table_metadata[sim]['ChiB_ref']\n",
    "        chiB_ref_x, chiB_ref_y, chiB_ref_z = eval(chiB_ref)\n",
    "\n",
    "        if chiA_ref_x==0 and chiA_ref_y==0 and chiB_ref_x==0 and chiB_ref_y==0:\n",
    "            aligned_spin=True\n",
    "            aligned_spin_sims.append(sim)\n",
    "            AS_cat_sims+=1\n",
    "            print(sim, chiA_ref, chiB_ref)\n",
    "        if aligned_spin==True and chiA_ref_z==0 and chiB_ref_z==0:\n",
    "            print(sim, 'is non-spinning. Spins: ', chiA_ref, chiB_ref)\n",
    "    print('Total =', total_cat_sims)\n",
    "    print('Incomplete =', incomplete_cat_sims)\n",
    "    print('Aligned spin = ', AS_cat_sims, '\\n')\n",
    "\n",
    "    total_sims += total_cat_sims\n",
    "    incomplete_sims += incomplete_cat_sims\n",
    "    AS_sims += AS_cat_sims\n",
    "print('Overall total =', total_sims)\n",
    "print('Overall incomplete =', incomplete_sims)\n",
    "print('Overall Aligned spin =', AS_sims)"
   ]
  },
  {
   "cell_type": "code",
   "execution_count": null,
   "id": "4d7594ce-deac-4675-adb5-3c5a0f1ee955",
   "metadata": {},
   "outputs": [],
   "source": []
  }
 ],
 "metadata": {
  "kernelspec": {
   "display_name": "nr-catalog-tools",
   "language": "python",
   "name": "nr-catalog-tools"
  },
  "language_info": {
   "codemirror_mode": {
    "name": "ipython",
    "version": 3
   },
   "file_extension": ".py",
   "mimetype": "text/x-python",
   "name": "python",
   "nbconvert_exporter": "python",
   "pygments_lexer": "ipython3",
   "version": "3.11.7"
  }
 },
 "nbformat": 4,
 "nbformat_minor": 5
}

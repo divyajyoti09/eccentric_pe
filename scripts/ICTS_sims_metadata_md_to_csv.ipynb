{
 "cells": [
  {
   "cell_type": "code",
   "execution_count": 1,
   "id": "c2c75b50-061b-4c83-bf68-67affc88c3c3",
   "metadata": {},
   "outputs": [],
   "source": [
    "import os\n",
    "import pandas as pd"
   ]
  },
  {
   "cell_type": "code",
   "execution_count": 2,
   "id": "7352c1a2-d171-4964-bfb7-2a21a682b62d",
   "metadata": {},
   "outputs": [],
   "source": [
    "sim_dir = '/home/divyajyoti/ACADEMIC/Projects/IITM_GW/Eccentric_Population/sims_from_Prayush_Vaishak'"
   ]
  },
  {
   "cell_type": "code",
   "execution_count": 9,
   "id": "1ce3ab24-d5ca-4db5-ba7b-8b34748c43a9",
   "metadata": {},
   "outputs": [],
   "source": [
    "#file_name = 'ICTSEccParallel'\n",
    "#file_name = 'EccContPrecDiff'\n",
    "file_name = 'EccPrecDiff'\n",
    "filepath = os.path.join(sim_dir, file_name, file_name+'_ref_time.md')"
   ]
  },
  {
   "cell_type": "markdown",
   "id": "c8946c76-d1d9-4ff1-9ab2-109dc594b475",
   "metadata": {},
   "source": [
    "## Read data from .md file"
   ]
  },
  {
   "cell_type": "code",
   "execution_count": 10,
   "id": "9ba3be5a-f41e-4345-8d08-fceffdeca0c6",
   "metadata": {},
   "outputs": [],
   "source": [
    "with open(filepath) as f:\n",
    "    metadata_text = f.read().splitlines()\n",
    "\n",
    "while(1):\n",
    "    try:\n",
    "        metadata_text.remove('')\n",
    "    except ValueError:\n",
    "        break"
   ]
  },
  {
   "cell_type": "code",
   "execution_count": 11,
   "id": "71ab6737-d62c-401e-97a8-a5f26775a3d9",
   "metadata": {},
   "outputs": [],
   "source": [
    "metadata_lines = []\n",
    "for line, idx in zip(metadata_text, range(len(metadata_text))):\n",
    "    if '#' in line or ':-' in line or '-:' in line:\n",
    "        continue\n",
    "    else:\n",
    "        try:\n",
    "            #metadata_lines.append(','.join([''.join(element.split()) for element in line.split('|') if element!='' and element.split()!=[]]))\n",
    "            words = []\n",
    "            for element in line.split('|'):\n",
    "                if element!='' and element.split()!=[]:\n",
    "                    if '$' in element:\n",
    "                        element = ''.join(element.split('$'))\n",
    "                        element = element.replace('{', '')\n",
    "                        element = element.replace('}', '')\n",
    "                    if '(' in element or ')' in element or '{' in element or '}' in element:\n",
    "                        element = '\\\"%s\\\"'%element\n",
    "                    words.append(''.join(element.split()))\n",
    "            metadata_lines.append(','.join(words))\n",
    "        except IndexError:\n",
    "            print(line,'\\n',idx,'\\n')\n",
    "            break"
   ]
  },
  {
   "cell_type": "code",
   "execution_count": 12,
   "id": "53b7e5a2-a8db-41d0-a162-687c2f90df26",
   "metadata": {},
   "outputs": [],
   "source": [
    "if 'alias' in metadata_lines[0].split(',')[0].lower():\n",
    "    pass\n",
    "else:\n",
    "    metadata_lines[0] = 'SimulationAlias,'+metadata_lines[0]"
   ]
  },
  {
   "cell_type": "code",
   "execution_count": 13,
   "id": "821ff4ca-9834-4f7a-aace-66f2ba2e897d",
   "metadata": {},
   "outputs": [
    {
     "data": {
      "text/plain": [
       "['SimulationAlias,Status,ReqRefTime,Omega0,Omega_ref,Ncycles,\"Ncycles(2,2)\",D0,MassRatio,Eccentricity,ChiA,ChiA_ref,ChiB,ChiB_ref,ChiEff,ChiPrec,SemiMajorAxis,AnomalyAngle',\n",
       " 'EccPrecDiff001,\"{2:\\'Completed\\',3:\\'Completed\\',4:\\'Tobesubmitted\\'}\",730,0.0145989,0.00167,\"{2:158.95570737526782,3:159.2101688205419}\",\"{}\",18,1,0.1,\"(0.0,0.2,0.2)\",\"(-0.02181,0.19931,0.1995)\",\"(0.2,0.0,0.2)\",\"(0.19885,0.02167,0.19997)\",0.2,0.2,18,0',\n",
       " 'EccPrecDiff002,\"{2:\\'Completed\\',3:\\'Completed\\'}\",730,0.0145989,0.00167,\"{2:159.08542739779307,3:159.29414602685733}\",\"{}\",18,1,0.1,\"(0.0,0.2,0.2)\",\"(-0.02181,0.19931,0.1995)\",\"(0.2,0.0,0.2)\",\"(0.19885,0.02167,0.19996)\",0.2,0.2,9,0',\n",
       " 'EccPrecDiff003,\"{3:\\'Unknown\\'}\",nan,0.0190602,nan,\"{}\",\"{}\",11,2,0.25,\"(0.1,0.1,0.2)\",nan,\"(0.3,0.0,0.3)\",nan,0.233333,0.141421,11,0',\n",
       " 'EccPrecDiff003a,\"{2:\\'Unknown\\',3:\\'Error\\',4:\\'Error\\'}\",nan,0.0190602,nan,\"{}\",\"{}\",11,2,nan,\"(0.1,0.1,0.2)\",nan,\"(0.3,0.0,0.3)\",nan,0.233333,0.141421,nan,nan',\n",
       " 'eccprecrun4b,\"{2:\\'Error\\',3:\\'Completed\\',4:\\'Halted\\',5:\\'Halted\\'}\",330,0.0190602,0.00429,\"{3:88.20583841222718}\",\"{}\",14.4,2,nan,\"(0.1,0.1,0.2)\",\"(0.08876,0.10947,0.20035)\",\"(0.3,0.0,0.3)\",\"(0.29346,0.05178,0.30195)\",0.233333,0.141421,nan,nan']"
      ]
     },
     "execution_count": 13,
     "metadata": {},
     "output_type": "execute_result"
    }
   ],
   "source": [
    "metadata_lines"
   ]
  },
  {
   "cell_type": "markdown",
   "id": "50452fe7-42f8-4665-aae1-fc603664204e",
   "metadata": {},
   "source": [
    "## Write data into .csv file"
   ]
  },
  {
   "cell_type": "code",
   "execution_count": 14,
   "id": "6232ba9b-a7a5-406b-a94a-796bde35d561",
   "metadata": {},
   "outputs": [],
   "source": [
    "with open(os.path.join(sim_dir, file_name, file_name+'_ref_time.csv'), 'w') as f:\n",
    "    for line in metadata_lines:\n",
    "        f.write(line+'\\n')"
   ]
  },
  {
   "cell_type": "code",
   "execution_count": null,
   "id": "191aeb43-f28b-41b4-a7d5-4ddcb21fb589",
   "metadata": {},
   "outputs": [],
   "source": []
  }
 ],
 "metadata": {
  "kernelspec": {
   "display_name": "Python 3 (ipykernel)",
   "language": "python",
   "name": "python3"
  },
  "language_info": {
   "codemirror_mode": {
    "name": "ipython",
    "version": 3
   },
   "file_extension": ".py",
   "mimetype": "text/x-python",
   "name": "python",
   "nbconvert_exporter": "python",
   "pygments_lexer": "ipython3",
   "version": "3.11.10"
  }
 },
 "nbformat": 4,
 "nbformat_minor": 5
}
